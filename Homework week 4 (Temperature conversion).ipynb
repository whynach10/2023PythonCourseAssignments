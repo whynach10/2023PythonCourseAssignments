{
 "cells": [
  {
   "cell_type": "markdown",
   "id": "a9bb4404",
   "metadata": {},
   "source": [
    "The following code allows you to convert temperatures between Celcius, Fahrenheit and Kelvin. You can use a Menu to choose wich Conversion you want. The conversions themselfes are one function each."
   ]
  },
  {
   "cell_type": "code",
   "execution_count": 35,
   "id": "07e6f478",
   "metadata": {},
   "outputs": [
    {
     "name": "stdout",
     "output_type": "stream",
     "text": [
      "\n",
      "xxxxxxxxxxxxxxxxxxxxxxxxxxxxxxx\n",
      "Please choose your desired conversion by typing the number infront of it. By typing q the program will quit\n",
      "xxxxxxxxxxxxxxxxxxxxxxxxxxxxxxx\n",
      "1. Fahrenheit to Celcius\n",
      "2. Celcius to Fahrenheit\n",
      "3. Celcius to Kelvin\n",
      "4. Kelvin to Celcius\n",
      "5. Fahrenheit to Kelvin\n",
      "6. Kelvin to Fahrenheit\n",
      "q. Quits the menu\n",
      "\n",
      "xxxxxxxxxxxxxxxxxxxxxxxxxxxxxx\n",
      "\n",
      "\n",
      "Please enter your conversion choice from the menu. Only type the number! Or type q to quit the programQ\n",
      "program stops!\n"
     ]
    }
   ],
   "source": [
    "#This is the main program the user should run!\n",
    "\n",
    "print(\"\"\"\n",
    "xxxxxxxxxxxxxxxxxxxxxxxxxxxxxxx\n",
    "Please choose your desired conversion by typing the number infront of it. By typing q the program will quit\n",
    "xxxxxxxxxxxxxxxxxxxxxxxxxxxxxxx\n",
    "1. Fahrenheit to Celcius\n",
    "2. Celcius to Fahrenheit\n",
    "3. Celcius to Kelvin\n",
    "4. Kelvin to Celcius\n",
    "5. Fahrenheit to Kelvin\n",
    "6. Kelvin to Fahrenheit\n",
    "q. Quits the menu\n",
    "\n",
    "xxxxxxxxxxxxxxxxxxxxxxxxxxxxxx\n",
    "\n",
    "\"\"\",flush = True) #flush is true to make sure the message appears first\n",
    "\n",
    "#User is asked to enter a number to determine which conversion funtion should be called\n",
    "while True:\n",
    "    menu_choice = input(\"Please enter your conversion choice from the menu. Only type the number! Or type q to quit the program\")\n",
    "#In case the user entered a capital \"Q\", make it lowercase    \n",
    "    menu_choice = menu_choice.lower()\n",
    "#Fist a check if the program should quit\n",
    "    if menu_choice == \"q\":\n",
    "        print(\"program stops!\")\n",
    "        break\n",
    "#User input control: was a number entered?        \n",
    "    elif menu_choice.isdigit() == True:  \n",
    "        \n",
    "#Choice of conversion, user is asked to enter their temperature they want to convert and callign the matching function\n",
    "        if menu_choice == \"1\":\n",
    "            fahrenheit = float(input(\"Please enter a Value in Fahrenheit:\"))\n",
    "            convert_fahrenheit_to_celcius(fahrenheit)\n",
    "        elif menu_choice == \"2\":\n",
    "            celcius = float(input(\"Please enter a Value in Celcius:\"))\n",
    "            convert_celcius_to_fahrenheit(celcius)\n",
    "        elif menu_choice == \"3\":\n",
    "            celcius = float(input(\"Please enter a Value in Celcius:\"))\n",
    "            convert_celcius_to_kelvin(celcius)\n",
    "        elif menu_choice == \"4\":\n",
    "            kelvin = float(input(\"Please enter a Value in Kelvin:\"))\n",
    "            convert_kelvin_to_celcius(kelvin)    \n",
    "        elif menu_choice == \"5\":\n",
    "            fahrenheit = float(input(\"Please enter a Value in Fahrenheit:\"))\n",
    "            convert_fahrenheit_to_kelvin(fahrenheit)\n",
    "        elif menu_choice == \"6\":\n",
    "            kelvin = float(input(\"Please enter a Value in Kelvin:\"))\n",
    "            convert_kelvin_to_fahrenheit(kelvin)\n",
    "#User input control: Was the number entered bigger than the choice of numbers on the menu?\n",
    "        elif int(menu_choice) >= 7:\n",
    "            print (\"please enter a number between 1 and 6 or q to stop the program\")\n",
    "#The final user input control in case the user entered a non-number (that is not \"q\")\n",
    "        else:\n",
    "            print(\"please enter a number between 1 and 6 or q to stop the program\")"
   ]
  },
  {
   "cell_type": "code",
   "execution_count": 3,
   "id": "dc9622ee",
   "metadata": {},
   "outputs": [
    {
     "name": "stdout",
     "output_type": "stream",
     "text": [
      "Help on built-in function print in module builtins:\n",
      "\n",
      "print(*args, sep=' ', end='\\n', file=None, flush=False)\n",
      "    Prints the values to a stream, or to sys.stdout by default.\n",
      "    \n",
      "    sep\n",
      "      string inserted between values, default a space.\n",
      "    end\n",
      "      string appended after the last value, default a newline.\n",
      "    file\n",
      "      a file-like object (stream); defaults to the current sys.stdout.\n",
      "    flush\n",
      "      whether to forcibly flush the stream.\n",
      "\n"
     ]
    }
   ],
   "source": [
    "help(print)\n"
   ]
  },
  {
   "cell_type": "code",
   "execution_count": 25,
   "id": "af5ccdcb",
   "metadata": {},
   "outputs": [],
   "source": [
    "def convert_fahrenheit_to_celcius(fahrenheit):\n",
    "    # First, let's inform our users with the print function.\n",
    "    print(\"\"\"--------------------------------------------- ----------\n",
    "    This function converts the value entered in Fahrenheit to Celsius.\n",
    "    -------------------------------------------------- -----\n",
    "    \"\"\")\n",
    "         \n",
    "    celcius = ((fahrenheit-32)/180)*100\n",
    "    message = \"The celcius equivalent of {} fahrenheit is {:.2f} celcius\".format(fahrenheit,celcius)\n",
    "    print(message)\n",
    "    "
   ]
  },
  {
   "cell_type": "code",
   "execution_count": 26,
   "id": "f55490b6",
   "metadata": {},
   "outputs": [],
   "source": [
    "def convert_celcius_to_fahrenheit(celcius):\n",
    "    print(\"\"\"--------------------------------------------- ----------\n",
    "    This function converts the value entered in degrees Celsius to Fahrenheit.\n",
    "    -------------------------------------------------- -----\n",
    "    \"\"\")\n",
    "    fahrenheit = ((celcius * 180) / 100) + 32\n",
    "    \n",
    "    message = \"The Fahrenheit equivalent of {} degrees Celsius is {:.2f} fahrenheit\".format(celcius,fahrenheit)\n",
    "    print(message)"
   ]
  },
  {
   "cell_type": "code",
   "execution_count": 27,
   "id": "723e36e6",
   "metadata": {},
   "outputs": [],
   "source": [
    "def convert_celcius_to_kelvin(celcius):\n",
    "    # First, let's inform our users with the print function.\n",
    "    print(\"\"\"--------------------------------------------- ----------\n",
    "    This function converts the value entered in degrees Celsius to Kelvin.\n",
    "    -------------------------------------------------- -----\n",
    "    \"\"\")\n",
    "         \n",
    "    kelvin = celcius+273\n",
    "    message = \"The Kelvin equivalent of {} degrees Celsius is {:.2f} Kelvin\".format(celcius,kelvin)\n",
    "    print(message)"
   ]
  },
  {
   "cell_type": "code",
   "execution_count": 28,
   "id": "71dea1f8",
   "metadata": {},
   "outputs": [],
   "source": [
    "def convert_kelvin_to_celcius(kelvin):\n",
    "    # First, let's inform our users with the print function.\n",
    "    print(\"\"\"--------------------------------------------- ----------\n",
    "    This function converts the value entered in Kelvin to Celcius.\n",
    "    -------------------------------------------------- -----\n",
    "    \"\"\")\n",
    "         \n",
    "    celcius = kelvin-273\n",
    "    message = \"The Celcius equivalent of {} Kelvin is {:.2f} Celcius\".format(kelvin,celcius)\n",
    "    print(message)"
   ]
  },
  {
   "cell_type": "code",
   "execution_count": 29,
   "id": "24e7f8a2",
   "metadata": {},
   "outputs": [],
   "source": [
    "def convert_fahrenheit_to_kelvin(fahrenheit):\n",
    "    # First, let's inform our users with the print function.\n",
    "    print(\"\"\"--------------------------------------------- ----------\n",
    "    This function converts the value entered in Fahrenheit to Kelvin.\n",
    "    -------------------------------------------------- -----\n",
    "    \"\"\")\n",
    "         \n",
    "    kelvin = (((fahrenheit-32)/180)*100)+273\n",
    "    message = f\"The Kelvin equivalent of {fahrenheit} Fahrenheit is {kelvin:.2f} Kelvin.\"\n",
    "    print(message)\n",
    "    "
   ]
  },
  {
   "cell_type": "code",
   "execution_count": 30,
   "id": "e483a378",
   "metadata": {},
   "outputs": [],
   "source": [
    "def convert_kelvin_to_fahrenheit(kelvin):\n",
    "    # First, let's inform our users with the print function.\n",
    "    print(\"\"\"--------------------------------------------- ----------\n",
    "    This function converts the value entered in Kelvin to Fahrenheit.\n",
    "    -------------------------------------------------- -----\n",
    "    \"\"\")\n",
    "         \n",
    "    fahrenheit = (((kelvin -273)-32)/180)*100\n",
    "    message = f\"The Fahrenheit equivalent of {kelvin} Kelvin is {fahrenheit:.2f} Fahrenheit.\"\n",
    "    print(message)"
   ]
  },
  {
   "cell_type": "code",
   "execution_count": null,
   "id": "8e264c84",
   "metadata": {},
   "outputs": [],
   "source": []
  },
  {
   "cell_type": "code",
   "execution_count": null,
   "id": "0297d1f7",
   "metadata": {},
   "outputs": [],
   "source": []
  }
 ],
 "metadata": {
  "kernelspec": {
   "display_name": "Python 3 (ipykernel)",
   "language": "python",
   "name": "python3"
  },
  "language_info": {
   "codemirror_mode": {
    "name": "ipython",
    "version": 3
   },
   "file_extension": ".py",
   "mimetype": "text/x-python",
   "name": "python",
   "nbconvert_exporter": "python",
   "pygments_lexer": "ipython3",
   "version": "3.11.5"
  }
 },
 "nbformat": 4,
 "nbformat_minor": 5
}
