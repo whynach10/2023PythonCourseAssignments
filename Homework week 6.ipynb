{
 "cells": [
  {
   "cell_type": "code",
   "execution_count": 1,
   "id": "115088cf",
   "metadata": {},
   "outputs": [
    {
     "name": "stdout",
     "output_type": "stream",
     "text": [
      "\n",
      "xxxxxxxxxxxxxxxxxxxxxxxxxxxxxxx\n",
      "Please choose if you want to log-in or register or quit the program\n",
      "xxxxxxxxxxxxxxxxxxxxxxxxxxxxxxx\n",
      "1. Register\n",
      "2. Log-in\n",
      "q. Quits the menu\n",
      "\n",
      "xxxxxxxxxxxxxxxxxxxxxxxxxxxxxx\n",
      "\n",
      "\n",
      "Please enter the number of the task you wanna do. Only type the number! Or type q to quit the program1\n",
      "please choose your user name: Hauke\n",
      "please choose your password: test\n",
      "please enter your telephone number: 6\n",
      "Please enter the number of the task you wanna do. Only type the number! Or type q to quit the program2\n",
      "please enter your user name: t\n",
      "please enter your password: s\n",
      "invalid log-in info!\n",
      "Please enter the number of the task you wanna do. Only type the number! Or type q to quit the program2\n",
      "please enter your user name: Hauke\n",
      "please enter your password: test\n",
      "Log-in successfull\n",
      "Type 1 to display your phone number, type 2 to log out1\n",
      "telephone number is: 6\n",
      "Type 1 to display your phone number, type 2 to log out2\n",
      "logging out!\n",
      "Please enter the number of the task you wanna do. Only type the number! Or type q to quit the programq\n",
      "program stops!\n"
     ]
    }
   ],
   "source": [
    "print(\"\"\"\n",
    "xxxxxxxxxxxxxxxxxxxxxxxxxxxxxxx\n",
    "Please choose if you want to log-in or register or quit the program\n",
    "xxxxxxxxxxxxxxxxxxxxxxxxxxxxxxx\n",
    "1. Register\n",
    "2. Log-in\n",
    "q. Quits the menu\n",
    "\n",
    "xxxxxxxxxxxxxxxxxxxxxxxxxxxxxx\n",
    "\n",
    "\"\"\",flush = True) #flush is true to make sure the message appears first\n",
    "\n",
    "user_info = dict()\n",
    "    \n",
    "while True:\n",
    "    menu_choice = input(\"Please enter the number of the task you wanna do. Only type the number! Or type q to quit the program\")\n",
    "#In case the user entered a capital \"Q\", make it lowercase    \n",
    "    menu_choice = menu_choice.lower()\n",
    "#Fist a check if the program should quit\n",
    "    if menu_choice == \"q\":\n",
    "        print(\"program stops!\")\n",
    "        break\n",
    "#User input control: was a number entered?        \n",
    "    elif menu_choice.isdigit() == True:  \n",
    "#menu option one: user is asked to enter the username, password and telephone to register with and stored in a dict. username is used as the main key and password and telephone are stored in 2 inner keys\n",
    "        if menu_choice == \"1\":\n",
    "            user_name = input(\"please choose your user name: \")\n",
    "            user_pw = input(\"please choose your password: \")\n",
    "            user_tel = input(\"please enter your telephone number: \")\n",
    "            user_info.update({user_name:{\"pw\": user_pw, \"tel\":user_tel}})   \n",
    "#menu option two: user is asked to enter username and password\n",
    "        elif menu_choice == \"2\":\n",
    "            entered_username = input(\"please enter your user name: \")\n",
    "            entered_pw = input(\"please enter your password: \")\n",
    "#check if username exists\n",
    "            if user_info.get(entered_username) is not None:\n",
    "#check if password matches with what is written in the dict\n",
    "                if entered_pw == user_info[entered_username][\"pw\"]: \n",
    "                    print (\"Log-in successfull\")\n",
    "#while logged in the user can choose to display their phone number or log out\n",
    "                    while True:\n",
    "                        logged_in_choice = input(\"Type 1 to display your phone number, type 2 to log out\")\n",
    "                        if logged_in_choice == \"1\":\n",
    "                            print(\"telephone number is:\", user_info[entered_username][\"tel\"])\n",
    "                        elif logged_in_choice == \"2\":\n",
    "                            print (\"logging out!\")\n",
    "                            break\n",
    "                        else:\n",
    "                            print(\"invalid choice!\")\n",
    "                    \n",
    "                else:\n",
    "                    print(\"invalid log-in info!\")\n",
    "            else:\n",
    "                print(\"invalid log-in info!\")\n",
    "    else: \n",
    "        print(\"please only enter a number or q!\")"
   ]
  },
  {
   "cell_type": "code",
   "execution_count": 27,
   "id": "5d56c7ce",
   "metadata": {},
   "outputs": [
    {
     "data": {
      "text/plain": [
       "dict_items([('Hauke', {'pw': 'test', 'tel': '43234'})])"
      ]
     },
     "execution_count": 27,
     "metadata": {},
     "output_type": "execute_result"
    }
   ],
   "source": [
    "user_info.items()"
   ]
  },
  {
   "cell_type": "code",
   "execution_count": 24,
   "id": "19cb5682",
   "metadata": {},
   "outputs": [
    {
     "data": {
      "text/plain": [
       "'test'"
      ]
     },
     "execution_count": 24,
     "metadata": {},
     "output_type": "execute_result"
    }
   ],
   "source": [
    "user_info[\"Hauke\"][\"pw\"]"
   ]
  },
  {
   "cell_type": "code",
   "execution_count": null,
   "id": "2e498714",
   "metadata": {},
   "outputs": [],
   "source": [
    "entered_pw == user_info[entered_username][pw]:"
   ]
  },
  {
   "cell_type": "code",
   "execution_count": 31,
   "id": "1fe64e56",
   "metadata": {},
   "outputs": [
    {
     "data": {
      "text/plain": [
       "{'pw': 'test', 'tel': '4'}"
      ]
     },
     "execution_count": 31,
     "metadata": {},
     "output_type": "execute_result"
    }
   ],
   "source": [
    "user_info.get(\"Hauke\", \"pw\")"
   ]
  },
  {
   "cell_type": "code",
   "execution_count": 32,
   "id": "bbbec93e",
   "metadata": {},
   "outputs": [],
   "source": [
    "testvari = user_info[\"Hauke\"][\"pw\"]"
   ]
  },
  {
   "cell_type": "code",
   "execution_count": 33,
   "id": "1357e726",
   "metadata": {},
   "outputs": [
    {
     "name": "stdout",
     "output_type": "stream",
     "text": [
      "test\n"
     ]
    }
   ],
   "source": [
    "print(testvari)"
   ]
  },
  {
   "cell_type": "code",
   "execution_count": null,
   "id": "af613867",
   "metadata": {},
   "outputs": [],
   "source": []
  }
 ],
 "metadata": {
  "kernelspec": {
   "display_name": "Python 3 (ipykernel)",
   "language": "python",
   "name": "python3"
  },
  "language_info": {
   "codemirror_mode": {
    "name": "ipython",
    "version": 3
   },
   "file_extension": ".py",
   "mimetype": "text/x-python",
   "name": "python",
   "nbconvert_exporter": "python",
   "pygments_lexer": "ipython3",
   "version": "3.11.5"
  }
 },
 "nbformat": 4,
 "nbformat_minor": 5
}
