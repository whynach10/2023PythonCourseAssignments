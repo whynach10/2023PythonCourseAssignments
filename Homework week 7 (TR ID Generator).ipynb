{
 "cells": [
  {
   "cell_type": "code",
   "execution_count": 12,
   "id": "568cd16a",
   "metadata": {},
   "outputs": [
    {
     "name": "stdout",
     "output_type": "stream",
     "text": [
      "how many IDs do you want to create? Type q to quit the program1\n",
      "Your new turkish ID-no 1:  44305221258\n",
      "how many IDs do you want to create? Type q to quit the programq\n"
     ]
    }
   ],
   "source": [
    "import random\n",
    "while True:\n",
    "    #ask the use how many IDs they want to create. q quites the program:\n",
    "    range_amount= input(\"how many IDs do you want to create? Type q to quit the program\")\n",
    "    if range_amount == \"q\":\n",
    "        break\n",
    "    #check that a number was entered:\n",
    "    else:\n",
    "        if range_amount.isdigit:\n",
    "            range_amount = int(range_amount)\n",
    "            #main loop to actually create the amount of IDs the user specified starts here:\n",
    "            for j in range(range_amount):\n",
    "                #empty list to start out with\n",
    "                tr_numberlist =[]\n",
    "                #first number cannot be 0, so its handled separatelyand added to the empty tr_numberlist:\n",
    "                first_number = random.randint(1,9)\n",
    "                tr_numberlist.append(first_number)\n",
    "                #creating the next 8 numbers randomly between 0 and 9 and append to tr_numberlist:\n",
    "                for i in range(8):\n",
    "                    tr_numberlist.append(random.randint(0,9))\n",
    "                #calculating the 10th number based on the the randomly generated first 9 numbers and append to tr_numberlist:\n",
    "                sum_odd = sum(map(int, tr_numberlist[0:10:2]))\n",
    "                sum_even = sum(map(int, tr_numberlist[1:9:2]))\n",
    "                sum_odd_7x = sum_odd * 7\n",
    "                calculated_10_digit = (sum_odd_7x - sum_even) % 10\n",
    "                tr_numberlist.append(calculated_10_digit)\n",
    "                #calculating the 11th number based on the first 10 numbers and append to tr_numberlist:\n",
    "                sum_first_10_numbers = sum(map(int, tr_numberlist[0:10]))\n",
    "                calculated_11_digit = sum_first_10_numbers %10\n",
    "                tr_numberlist.append(calculated_11_digit)\n",
    "                #now, to show the ID in a better readbale format first an empty string is genrated:\n",
    "                tr_ID = \"\"\n",
    "                #in this for loop the items of the tr_numbers list are added to the empty string:\n",
    "                for i in range(11):\n",
    "                    tr_ID = str(tr_ID) + str(tr_numberlist[i])\n",
    "                #finally print the now generated TR ID as a string:\n",
    "                print(f\"Your new turkish ID-no {j+1}: \",tr_ID)\n",
    "        #closing else statement in case the user did not enter a number or q:\n",
    "        else:\n",
    "            print(\"please enter a number or q to quit the program\")"
   ]
  },
  {
   "cell_type": "code",
   "execution_count": 40,
   "id": "726b159e",
   "metadata": {},
   "outputs": [
    {
     "name": "stdout",
     "output_type": "stream",
     "text": [
      "94\n"
     ]
    }
   ],
   "source": [
    "tr_ID = str(tr_numberlist[0])\n",
    "tr_ID2 = str(tr_numberlist[1])\n",
    "\n",
    "tr_ID = tr_ID + tr_ID2\n",
    "\n",
    "print(tr_ID)"
   ]
  },
  {
   "cell_type": "code",
   "execution_count": 36,
   "id": "5cc0fccf",
   "metadata": {},
   "outputs": [
    {
     "name": "stdout",
     "output_type": "stream",
     "text": [
      "[9, 4, 3, 1, 0, 9, 2, 4, 8, 6]\n"
     ]
    }
   ],
   "source": [
    "    tr_ID = tr_numberlist[0:10]\n",
    "    print(tr_ID)"
   ]
  },
  {
   "cell_type": "code",
   "execution_count": 39,
   "id": "d9c0871e",
   "metadata": {},
   "outputs": [
    {
     "name": "stdout",
     "output_type": "stream",
     "text": [
      "YunsunYunsun\n"
     ]
    }
   ],
   "source": [
    "x = \"Yunsun\"\n",
    "y = \"Yunsun\" + x\n",
    "print(y)"
   ]
  },
  {
   "cell_type": "code",
   "execution_count": null,
   "id": "77c37205",
   "metadata": {},
   "outputs": [],
   "source": []
  }
 ],
 "metadata": {
  "kernelspec": {
   "display_name": "Python 3 (ipykernel)",
   "language": "python",
   "name": "python3"
  },
  "language_info": {
   "codemirror_mode": {
    "name": "ipython",
    "version": 3
   },
   "file_extension": ".py",
   "mimetype": "text/x-python",
   "name": "python",
   "nbconvert_exporter": "python",
   "pygments_lexer": "ipython3",
   "version": "3.11.5"
  }
 },
 "nbformat": 4,
 "nbformat_minor": 5
}
