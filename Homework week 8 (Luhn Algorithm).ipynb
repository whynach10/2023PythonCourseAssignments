{
 "cells": [
  {
   "cell_type": "code",
   "execution_count": 71,
   "id": "67c79ed1",
   "metadata": {},
   "outputs": [
    {
     "name": "stdout",
     "output_type": "stream",
     "text": [
      "please enter your credit card number (or q to quit the program): 1\n",
      "Invalid number of digits!\n",
      "please enter your credit card number (or q to quit the program): e\n",
      "please enter only numbers!\n",
      "please enter your credit card number (or q to quit the program): q\n"
     ]
    }
   ],
   "source": [
    "while True:\n",
    "    #ask the user to input their credit card number\n",
    "    creditcardnumber = input(\"please enter your credit card number (or q to quit the program): \")\n",
    "    #stop if \"q\" was entered\n",
    "    if creditcardnumber == \"q\":\n",
    "        break\n",
    "#Check that credit card is only digits\n",
    "    if creditcardnumber.isdigit() == False:\n",
    "        print(\"please enter only numbers!\")\n",
    "#Chek if American Express (=15 digits)\n",
    "    else:\n",
    "        if len(creditcardnumber) == 15:\n",
    "            #collect the odd numbers as a string\n",
    "            odd_numbers = creditcardnumber[1:16:2]\n",
    "            #double each of the collected odd numbers. For this to work the strin needs to be formatted to a list\n",
    "            odd_numbers_double=[int(odd_number)*2 for odd_number in odd_numbers]\n",
    "            \n",
    "            #empty string needed later\n",
    "            odd_numbers_double_str =\"\"\n",
    "            #fill the empty string with the doubled number list items. This transformation is needed to late separate the\n",
    "            #double digit numbers. Possibliy als work with a alphanumeric check?\n",
    "            for i in range (0,7):\n",
    "                odd_numbers_double_str = odd_numbers_double_str + str(odd_numbers_double[i])\n",
    "            # but the string back in a list. Like this the previously double digits are now to separate single digit list items\n",
    "            odd_numbers_double_formatted = [int(odd_number_formated) for odd_number_formated in odd_numbers_double_str]\n",
    "            #sum up the odd numbers (as single digits)\n",
    "            odd_numbers_double_formatted_sum = sum(map(int, odd_numbers_double_formatted))\n",
    "            #in the same fashion as for odd numbers the even numbers are collected in a string...\n",
    "            even_numbers = creditcardnumber[0:15:2]\n",
    "            #...and then summed up\n",
    "            even_numbers_sum = sum(map(int, [even_number for even_number in even_numbers]))\n",
    "            #both the sums of (formatted) odd and even numbers are summed up\n",
    "            all_numbers = odd_numbers_double_formatted_sum + even_numbers_sum\n",
    "            #check if can be divided by 10 without rest. If yes, the card is valid and the user gets a message\n",
    "            if all_numbers % 10 == 0:\n",
    "                print(\"American Express card is valid!\")\n",
    "            #if not tell the user card is not valid\n",
    "            else:\n",
    "                print(\"American Express is not valid!\")\n",
    "        #Visa/Mastercard IDs (=16 digits) undergo the  same transformations and checks as AE, just the collecting\n",
    "        #the odd and even numbers is slightly adapted\n",
    "        elif len(creditcardnumber) == 16:\n",
    "            odd_numbers = creditcardnumber[0:15:2]\n",
    "            odd_numbers_double=[int(odd_number)*2 for odd_number in odd_numbers]\n",
    "            odd_numbers_double_str =\"\"\n",
    "        \n",
    "            for i in range (0,8):\n",
    "                odd_numbers_double_str = odd_numbers_double_str + str(odd_numbers_double[i])\n",
    "            odd_numbers_double_formatted = [int(odd_number_formated) for odd_number_formated in odd_numbers_double_str]\n",
    "            odd_numbers_double_formatted_sum = sum(map(int, odd_numbers_double_formatted))\n",
    "            even_numbers = creditcardnumber[1:16:2]\n",
    "            even_numbers_sum = sum(map(int, [even_number for even_number in even_numbers]))\n",
    "            all_numbers = odd_numbers_double_formatted_sum + even_numbers_sum\n",
    "        \n",
    "            if all_numbers % 10 == 0:\n",
    "                print(\"Master- or Visacard is valid!\")\n",
    "            else:\n",
    "                print(\"Your Master- or Visacard is not valid!\")\n",
    "        #closing else in case the user entered wrong number of digits\n",
    "        else:\n",
    "            print(\"Invalid number of digits!\")"
   ]
  },
  {
   "cell_type": "code",
   "execution_count": 63,
   "id": "418bc384",
   "metadata": {},
   "outputs": [
    {
     "name": "stdout",
     "output_type": "stream",
     "text": [
      "43115197\n"
     ]
    }
   ],
   "source": [
    "print(odd_numbers)"
   ]
  },
  {
   "cell_type": "code",
   "execution_count": 64,
   "id": "ae0530de",
   "metadata": {},
   "outputs": [
    {
     "name": "stdout",
     "output_type": "stream",
     "text": [
      "[8, 6, 2, 2, 10, 2, 18, 14]\n"
     ]
    }
   ],
   "source": [
    "print(odd_numbers_double)"
   ]
  },
  {
   "cell_type": "code",
   "execution_count": 65,
   "id": "58a7fe6a",
   "metadata": {},
   "outputs": [
    {
     "name": "stdout",
     "output_type": "stream",
     "text": [
      "86221021814\n"
     ]
    }
   ],
   "source": [
    "print(odd_numbers_double_str)"
   ]
  },
  {
   "cell_type": "code",
   "execution_count": 46,
   "id": "2e17bc0b",
   "metadata": {},
   "outputs": [
    {
     "data": {
      "text/plain": [
       "str"
      ]
     },
     "execution_count": 46,
     "metadata": {},
     "output_type": "execute_result"
    }
   ],
   "source": [
    "x = odd_numbers_double2[1]\n",
    "type(x)"
   ]
  },
  {
   "cell_type": "code",
   "execution_count": 69,
   "id": "e0124d34",
   "metadata": {},
   "outputs": [
    {
     "name": "stdout",
     "output_type": "stream",
     "text": [
      "[1, 4, 8, 1, 8, 6, 6, 1, 6, 6]\n"
     ]
    }
   ],
   "source": [
    "print(odd_numbers_double_formatted)"
   ]
  },
  {
   "cell_type": "code",
   "execution_count": 47,
   "id": "b9322156",
   "metadata": {},
   "outputs": [
    {
     "ename": "NameError",
     "evalue": "name 'odd_numbers_str_split' is not defined",
     "output_type": "error",
     "traceback": [
      "\u001b[1;31m---------------------------------------------------------------------------\u001b[0m",
      "\u001b[1;31mNameError\u001b[0m                                 Traceback (most recent call last)",
      "Cell \u001b[1;32mIn[47], line 1\u001b[0m\n\u001b[1;32m----> 1\u001b[0m \u001b[38;5;28mprint\u001b[39m(odd_numbers_str_split)\n",
      "\u001b[1;31mNameError\u001b[0m: name 'odd_numbers_str_split' is not defined"
     ]
    }
   ],
   "source": [
    "print(odd_numbers_str_split)"
   ]
  },
  {
   "cell_type": "code",
   "execution_count": 66,
   "id": "ee57fada",
   "metadata": {},
   "outputs": [
    {
     "name": "stdout",
     "output_type": "stream",
     "text": [
      "47246813\n"
     ]
    }
   ],
   "source": [
    "print(even_numbers)"
   ]
  },
  {
   "cell_type": "code",
   "execution_count": 67,
   "id": "9105cd95",
   "metadata": {},
   "outputs": [
    {
     "name": "stdout",
     "output_type": "stream",
     "text": [
      "47\n"
     ]
    }
   ],
   "source": [
    "print(odd_numbers_double_formatted_sum)"
   ]
  },
  {
   "cell_type": "code",
   "execution_count": 68,
   "id": "c9964c43",
   "metadata": {},
   "outputs": [
    {
     "name": "stdout",
     "output_type": "stream",
     "text": [
      "35\n"
     ]
    }
   ],
   "source": [
    "print(even_numbers_sum)"
   ]
  },
  {
   "cell_type": "code",
   "execution_count": null,
   "id": "736fd3c0",
   "metadata": {},
   "outputs": [],
   "source": []
  }
 ],
 "metadata": {
  "kernelspec": {
   "display_name": "Python 3 (ipykernel)",
   "language": "python",
   "name": "python3"
  },
  "language_info": {
   "codemirror_mode": {
    "name": "ipython",
    "version": 3
   },
   "file_extension": ".py",
   "mimetype": "text/x-python",
   "name": "python",
   "nbconvert_exporter": "python",
   "pygments_lexer": "ipython3",
   "version": "3.11.5"
  }
 },
 "nbformat": 4,
 "nbformat_minor": 5
}
