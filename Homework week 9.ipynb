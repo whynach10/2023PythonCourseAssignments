{
 "cells": [
  {
   "cell_type": "code",
   "execution_count": 60,
   "id": "0af5dfc1",
   "metadata": {},
   "outputs": [
    {
     "name": "stdout",
     "output_type": "stream",
     "text": [
      "please define the number of layers for your pyramid: 5\n",
      "    #   #\n",
      "   ##   ##\n",
      "  ###   ###\n",
      " ####   ####\n",
      "#####   #####\n"
     ]
    }
   ],
   "source": [
    "def printbricks(layer = 1, height = 1):\n",
    "    bricksleft = printbricksleft (layer, height)\n",
    "    bricksright = printbricksright(layer)\n",
    "    print(bricksleft, \" \", bricksright)\n",
    "\n",
    "def printbricksright(layer = 1):\n",
    "    bricksright = \"#\" * layer\n",
    "    return bricksright  \n",
    "\n",
    "def printbricksleft(layer = 1, height = 1):\n",
    "    spaceleft = \" \" * (height  -layer)\n",
    "    brickleft = \"#\" * layer\n",
    "    spacedbricksleft = spaceleft + brickleft\n",
    "    return spacedbricksleft\n",
    "\n",
    "height = int(input(\"please define the number of layers for your pyramid: \"))\n",
    "layer = 1\n",
    "while layer <= height:\n",
    "    printbricks(layer, height)\n",
    "    layer = layer +1 "
   ]
  },
  {
   "cell_type": "code",
   "execution_count": null,
   "id": "a8839951",
   "metadata": {},
   "outputs": [],
   "source": []
  },
  {
   "cell_type": "code",
   "execution_count": null,
   "id": "ad35244f",
   "metadata": {},
   "outputs": [],
   "source": []
  },
  {
   "cell_type": "code",
   "execution_count": null,
   "id": "637a7c21",
   "metadata": {},
   "outputs": [],
   "source": []
  },
  {
   "cell_type": "code",
   "execution_count": 38,
   "id": "83439c41",
   "metadata": {},
   "outputs": [],
   "source": []
  },
  {
   "cell_type": "code",
   "execution_count": null,
   "id": "f56e6568",
   "metadata": {},
   "outputs": [],
   "source": []
  },
  {
   "cell_type": "code",
   "execution_count": null,
   "id": "466b1fd9",
   "metadata": {},
   "outputs": [],
   "source": []
  },
  {
   "cell_type": "code",
   "execution_count": null,
   "id": "dff405d7",
   "metadata": {},
   "outputs": [],
   "source": []
  }
 ],
 "metadata": {
  "kernelspec": {
   "display_name": "Python 3 (ipykernel)",
   "language": "python",
   "name": "python3"
  },
  "language_info": {
   "codemirror_mode": {
    "name": "ipython",
    "version": 3
   },
   "file_extension": ".py",
   "mimetype": "text/x-python",
   "name": "python",
   "nbconvert_exporter": "python",
   "pygments_lexer": "ipython3",
   "version": "3.11.5"
  }
 },
 "nbformat": 4,
 "nbformat_minor": 5
}
